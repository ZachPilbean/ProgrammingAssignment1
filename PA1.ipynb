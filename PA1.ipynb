{
 "cells": [
  {
   "cell_type": "markdown",
   "id": "1e5b340d",
   "metadata": {},
   "source": [
    "# Programming assigment 1\n",
    "## Zachary Pilbean\n",
    "## CS150"
   ]
  },
  {
   "cell_type": "code",
   "execution_count": 76,
   "id": "d757766e",
   "metadata": {},
   "outputs": [
    {
     "name": "stdout",
     "output_type": "stream",
     "text": [
      "Enter a floating point number: 44.3\n"
     ]
    }
   ],
   "source": [
    "number1=float(input('Enter a floating point number: '))"
   ]
  },
  {
   "cell_type": "code",
   "execution_count": 77,
   "id": "167e1b31",
   "metadata": {},
   "outputs": [
    {
     "name": "stdout",
     "output_type": "stream",
     "text": [
      "Enter and integer: 16\n"
     ]
    }
   ],
   "source": [
    "number2=int(input('Enter and integer: '))"
   ]
  },
  {
   "cell_type": "code",
   "execution_count": 78,
   "id": "884531d5",
   "metadata": {},
   "outputs": [
    {
     "name": "stdout",
     "output_type": "stream",
     "text": [
      "The sum is:  60.3\n"
     ]
    }
   ],
   "source": [
    "print('The sum is: ', (number1+number2))"
   ]
  },
  {
   "cell_type": "code",
   "execution_count": 79,
   "id": "69277330",
   "metadata": {},
   "outputs": [
    {
     "name": "stdout",
     "output_type": "stream",
     "text": [
      "The difference is:  28.299999999999997\n"
     ]
    }
   ],
   "source": [
    "print('The difference is: ', (number1-number2))"
   ]
  },
  {
   "cell_type": "code",
   "execution_count": 80,
   "id": "22e33281",
   "metadata": {},
   "outputs": [
    {
     "name": "stdout",
     "output_type": "stream",
     "text": [
      "The product is:  708.8\n"
     ]
    }
   ],
   "source": [
    "print('The product is: ', (number1*number2))"
   ]
  },
  {
   "cell_type": "code",
   "execution_count": 81,
   "id": "e931e2d6",
   "metadata": {},
   "outputs": [
    {
     "name": "stdout",
     "output_type": "stream",
     "text": [
      "The quotient is:  2.76875\n"
     ]
    }
   ],
   "source": [
    "print('The quotient is: ', (number1/number2))"
   ]
  },
  {
   "cell_type": "code",
   "execution_count": 82,
   "id": "5dc9468d",
   "metadata": {},
   "outputs": [
    {
     "name": "stdout",
     "output_type": "stream",
     "text": [
      "The type for the result is:  <class 'float'>\n"
     ]
    }
   ],
   "source": [
    "print('The type for the result is: ', type(number1))"
   ]
  }
 ],
 "metadata": {
  "kernelspec": {
   "display_name": "Python 3 (ipykernel)",
   "language": "python",
   "name": "python3"
  },
  "language_info": {
   "codemirror_mode": {
    "name": "ipython",
    "version": 3
   },
   "file_extension": ".py",
   "mimetype": "text/x-python",
   "name": "python",
   "nbconvert_exporter": "python",
   "pygments_lexer": "ipython3",
   "version": "3.9.12"
  }
 },
 "nbformat": 4,
 "nbformat_minor": 5
}
